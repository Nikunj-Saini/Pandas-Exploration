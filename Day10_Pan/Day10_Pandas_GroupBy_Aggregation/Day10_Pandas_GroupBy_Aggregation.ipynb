{ 
 "cells": [
  {
   "cell_type": "code",
   "execution_count": 1,
   "id": "dfc06adb-2557-417e-b8f4-d08f972f7b15",
   "metadata": {},
   "outputs": [],
   "source": [
    "import pandas as pd "
   ]
  },
  {
   "cell_type": "code",
   "execution_count": 3,
   "id": "471d59b6-463d-4532-9e23-0ec5c349c3e5",
   "metadata": {},
   "outputs": [],
   "source": [
    "import pandas as pd\n",
    "data = {\n",
    "    'Department': ['HR', 'HR', 'IT', 'IT', 'Finance', 'Finance', 'Mood'],\n",
    "    'Name': ['Nikunj', 'Rohan', 'Defaulter', 'Jayant', 'Kartik', 'Frank', 'George'],\n",
    "    'Salary': [50000, 55000, 60000, 65000, 70000, 72000, 58000],\n",
    "    'Experience': [6, 3, 2, 4, 5, 7, 2]\n",
    "}\n",
    "\n",
    "df = pd.DataFrame(data)"
   ]
  },
  {
   "cell_type": "markdown",
   "id": "0ff8d377-f848-48ad-a32b-7cd351c01b49",
   "metadata": {},
   "source": [
    "##  1. Group by Department"
   ]
  },
  {
   "cell_type": "code",
   "execution_count": 7,
   "id": "decd9368-db42-4172-a329-5740b08df382",
   "metadata": {},
   "outputs": [
    {
     "name": "stdout",
     "output_type": "stream",
     "text": [
      "Department\n",
      "Finance    71000.0\n",
      "HR         52500.0\n",
      "IT         62500.0\n",
      "Mood       58000.0\n",
      "Name: Salary, dtype: float64\n"
     ]
    }
   ],
   "source": [
    "grouped = df.groupby('Department')\n",
    "print(grouped['Salary'].mean())"
   ]
  },
  {
   "cell_type": "markdown",
   "id": "14acc678-4d3b-4d17-be7f-7ace927a7234",
   "metadata": {},
   "source": [
    "##  2. Multiple Aggregations using .agg()"
   ]
  },
  {
   "cell_type": "code",
   "execution_count": 9,
   "id": "8783c5ac-432b-41a5-a00b-d30d9416c8cb",
   "metadata": {},
   "outputs": [
    {
     "data": {
      "text/html": [
       "<div>\n",
       "<style scoped>\n",
       "    .dataframe tbody tr th:only-of-type {\n",
       "        vertical-align: middle;\n",
       "    }\n",
       "\n",
       "    .dataframe tbody tr th {\n",
       "        vertical-align: top;\n",
       "    }\n",
       "\n",
       "    .dataframe thead th {\n",
       "        text-align: right;\n",
       "    }\n",
       "</style>\n",
       "<table border=\"1\" class=\"dataframe\">\n",
       "  <thead>\n",
       "    <tr style=\"text-align: right;\">\n",
       "      <th></th>\n",
       "      <th>mean</th>\n",
       "      <th>max</th>\n",
       "      <th>min</th>\n",
       "    </tr>\n",
       "    <tr>\n",
       "      <th>Department</th>\n",
       "      <th></th>\n",
       "      <th></th>\n",
       "      <th></th>\n",
       "    </tr>\n",
       "  </thead>\n",
       "  <tbody>\n",
       "    <tr>\n",
       "      <th>Finance</th>\n",
       "      <td>71000.0</td>\n",
       "      <td>72000</td>\n",
       "      <td>70000</td>\n",
       "    </tr>\n",
       "    <tr>\n",
       "      <th>HR</th>\n",
       "      <td>52500.0</td>\n",
       "      <td>55000</td>\n",
       "      <td>50000</td>\n",
       "    </tr>\n",
       "    <tr>\n",
       "      <th>IT</th>\n",
       "      <td>62500.0</td>\n",
       "      <td>65000</td>\n",
       "      <td>60000</td>\n",
       "    </tr>\n",
       "    <tr>\n",
       "      <th>Mood</th>\n",
       "      <td>58000.0</td>\n",
       "      <td>58000</td>\n",
       "      <td>58000</td>\n",
       "    </tr>\n",
       "  </tbody>\n",
       "</table>\n",
       "</div>"
      ],
      "text/plain": [
       "               mean    max    min\n",
       "Department                       \n",
       "Finance     71000.0  72000  70000\n",
       "HR          52500.0  55000  50000\n",
       "IT          62500.0  65000  60000\n",
       "Mood        58000.0  58000  58000"
      ]
     },
     "execution_count": 9,
     "metadata": {},
     "output_type": "execute_result"
    }
   ],
   "source": [
    "df.groupby('Department')['Salary'].agg(['mean', 'max', 'min'])"
   ]
  },
  {
   "cell_type": "markdown",
   "id": "0358c34c-f84b-46b8-8f43-0660db62be9a",
   "metadata": {},
   "source": [
    "## 3. Group by Multiple Columns"
   ]
  },
  {
   "cell_type": "code",
   "execution_count": 10,
   "id": "74aca2d7-3368-446a-b033-299459c23214",
   "metadata": {},
   "outputs": [
    {
     "data": {
      "text/plain": [
       "Department  Experience\n",
       "Finance     5             70000.0\n",
       "            7             72000.0\n",
       "HR          3             55000.0\n",
       "            6             50000.0\n",
       "IT          2             60000.0\n",
       "            4             65000.0\n",
       "Mood        2             58000.0\n",
       "Name: Salary, dtype: float64"
      ]
     },
     "execution_count": 10,
     "metadata": {},
     "output_type": "execute_result"
    }
   ],
   "source": [
    "df.groupby(['Department','Experience'])['Salary'].mean()"
   ]
  },
  {
   "cell_type": "markdown",
   "id": "5545f209-ffca-432b-a834-5656290a0d69",
   "metadata": {},
   "source": [
    "## 4. Count Unique & Total Entries`"
   ]
  },
  {
   "cell_type": "code",
   "execution_count": 12,
   "id": "d928ab7c-b048-4d28-8ffb-244ded66308a",
   "metadata": {},
   "outputs": [
    {
     "data": {
      "text/plain": [
       "Department\n",
       "Finance    2\n",
       "HR         2\n",
       "IT         2\n",
       "Mood       1\n",
       "Name: Name, dtype: int64"
      ]
     },
     "execution_count": 12,
     "metadata": {},
     "output_type": "execute_result"
    }
   ],
   "source": [
    "df['Department'].value_counts()\n",
    "df.groupby('Department')['Name'].nunique()"
   ]
  },
  {
   "cell_type": "markdown",
   "id": "f626795e-081c-4bca-8253-17c40aefdb8e",
   "metadata": {},
   "source": [
    "##  5. Custom Aggregations"
   ]
  },
  {
   "cell_type": "code",
   "execution_count": 13,
   "id": "99a284d4-6bb6-40c0-8e87-09988f83143b",
   "metadata": {},
   "outputs": [
    {
     "data": {
      "text/html": [
       "<div>\n",
       "<style scoped>\n",
       "    .dataframe tbody tr th:only-of-type {\n",
       "        vertical-align: middle;\n",
       "    }\n",
       "\n",
       "    .dataframe tbody tr th {\n",
       "        vertical-align: top;\n",
       "    }\n",
       "\n",
       "    .dataframe thead th {\n",
       "        text-align: right;\n",
       "    }\n",
       "</style>\n",
       "<table border=\"1\" class=\"dataframe\">\n",
       "  <thead>\n",
       "    <tr style=\"text-align: right;\">\n",
       "      <th></th>\n",
       "      <th>mean</th>\n",
       "      <th>range_fn</th>\n",
       "    </tr>\n",
       "    <tr>\n",
       "      <th>Department</th>\n",
       "      <th></th>\n",
       "      <th></th>\n",
       "    </tr>\n",
       "  </thead>\n",
       "  <tbody>\n",
       "    <tr>\n",
       "      <th>Finance</th>\n",
       "      <td>71000.0</td>\n",
       "      <td>2000</td>\n",
       "    </tr>\n",
       "    <tr>\n",
       "      <th>HR</th>\n",
       "      <td>52500.0</td>\n",
       "      <td>5000</td>\n",
       "    </tr>\n",
       "    <tr>\n",
       "      <th>IT</th>\n",
       "      <td>62500.0</td>\n",
       "      <td>5000</td>\n",
       "    </tr>\n",
       "    <tr>\n",
       "      <th>Mood</th>\n",
       "      <td>58000.0</td>\n",
       "      <td>0</td>\n",
       "    </tr>\n",
       "  </tbody>\n",
       "</table>\n",
       "</div>"
      ],
      "text/plain": [
       "               mean  range_fn\n",
       "Department                   \n",
       "Finance     71000.0      2000\n",
       "HR          52500.0      5000\n",
       "IT          62500.0      5000\n",
       "Mood        58000.0         0"
      ]
     },
     "execution_count": 13,
     "metadata": {},
     "output_type": "execute_result"
    }
   ],
   "source": [
    "def range_fn(x):\n",
    "    return x.max() - x.min()\n",
    "\n",
    "df.groupby('Department')['Salary'].agg(['mean', range_fn])\n"
   ]
  },
  {
   "cell_type": "markdown",
   "id": "44c95970-5ed5-49eb-b384-1b0bcfe86ca4",
   "metadata": {},
   "source": [
    "##  6. Resetting Grouped Data"
   ]
  },
  {
   "cell_type": "code",
   "execution_count": 14,
   "id": "e2497d97-9fa1-4e1f-9bed-e225d729fc4b",
   "metadata": {},
   "outputs": [
    {
     "data": {
      "text/html": [
       "<div>\n",
       "<style scoped>\n",
       "    .dataframe tbody tr th:only-of-type {\n",
       "        vertical-align: middle;\n",
       "    }\n",
       "\n",
       "    .dataframe tbody tr th {\n",
       "        vertical-align: top;\n",
       "    }\n",
       "\n",
       "    .dataframe thead th {\n",
       "        text-align: right;\n",
       "    }\n",
       "</style>\n",
       "<table border=\"1\" class=\"dataframe\">\n",
       "  <thead>\n",
       "    <tr style=\"text-align: right;\">\n",
       "      <th></th>\n",
       "      <th>Department</th>\n",
       "      <th>Salary</th>\n",
       "    </tr>\n",
       "  </thead>\n",
       "  <tbody>\n",
       "    <tr>\n",
       "      <th>0</th>\n",
       "      <td>Finance</td>\n",
       "      <td>71000.0</td>\n",
       "    </tr>\n",
       "    <tr>\n",
       "      <th>1</th>\n",
       "      <td>HR</td>\n",
       "      <td>52500.0</td>\n",
       "    </tr>\n",
       "    <tr>\n",
       "      <th>2</th>\n",
       "      <td>IT</td>\n",
       "      <td>62500.0</td>\n",
       "    </tr>\n",
       "    <tr>\n",
       "      <th>3</th>\n",
       "      <td>Mood</td>\n",
       "      <td>58000.0</td>\n",
       "    </tr>\n",
       "  </tbody>\n",
       "</table>\n",
       "</div>"
      ],
      "text/plain": [
       "  Department   Salary\n",
       "0    Finance  71000.0\n",
       "1         HR  52500.0\n",
       "2         IT  62500.0\n",
       "3       Mood  58000.0"
      ]
     },
     "execution_count": 14,
     "metadata": {},
     "output_type": "execute_result"
    }
   ],
   "source": [
    "df.groupby('Department')['Salary'].mean().reset_index()"
   ]
  },
  {
   "cell_type": "code",
   "execution_count": null,
   "id": "4ef59cbb-d9b9-4790-b65a-5dc4bbf7bfd6",
   "metadata": {},
   "outputs": [],
   "source": []
  }
 ],
 "metadata": {
  "kernelspec": {
   "display_name": "Python 3 (ipykernel)",
   "language": "python",
   "name": "python3"
  },
  "language_info": {
   "codemirror_mode": {
    "name": "ipython",
    "version": 3
   },
   "file_extension": ".py",
   "mimetype": "text/x-python",
   "name": "python",
   "nbconvert_exporter": "python",
   "pygments_lexer": "ipython3",
   "version": "3.13.0"
  }
 },
 "nbformat": 4,
 "nbformat_minor": 5
}
