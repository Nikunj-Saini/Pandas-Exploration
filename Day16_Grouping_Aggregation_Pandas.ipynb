{
 "cells": [
  {
   "cell_type": "markdown",
   "id": "0568775c-046b-4f9d-a636-437547ca2f2b",
   "metadata": {},
   "source": [
    "##  1. Aggregation in Pandas"
   ]
  },
  {
   "cell_type": "markdown",
   "id": "3d6c4031-fd84-45df-aec2-ed203e6f9fa3",
   "metadata": {},
   "source": [
    "Aggregation allows you to summarize your data.\n",
    "    \n",
    "For example:\n",
    "1) Average score of each student\n",
    "2) Total sales per month\n",
    "3) Count of entries per category"
   ]
  },
  {
   "cell_type": "markdown",
   "id": "1c237669-3696-4c57-9b5e-6619f5d88762",
   "metadata": {},
   "source": [
    "## 2. Basic groupby()"
   ]
  },
  {
   "cell_type": "code",
   "execution_count": 1,
   "id": "695d6a08-79b2-4e06-a619-af28d6bcf805",
   "metadata": {},
   "outputs": [],
   "source": [
    "import pandas as pd "
   ]
  },
  {
   "cell_type": "code",
   "execution_count": 2,
   "id": "3ef42889-b1e8-49db-ac87-cb547ce2532c",
   "metadata": {},
   "outputs": [
    {
     "name": "stdout",
     "output_type": "stream",
     "text": [
      "Department\n",
      "Finance    87500.0\n",
      "HR         55000.0\n",
      "IT         75000.0\n",
      "Name: Salary, dtype: float64\n"
     ]
    }
   ],
   "source": [
    "data = {\n",
    "    'Department': ['IT', 'IT', 'HR', 'HR', 'Finance', 'Finance'],\n",
    "    'Employee': ['A', 'B', 'C', 'D', 'E', 'F'],\n",
    "    'Salary': [70000, 80000, 50000, 60000, 90000, 85000]\n",
    "}\n",
    "\n",
    "df = pd.DataFrame(data)\n",
    "grouped = df.groupby('Department')\n",
    "print(grouped['Salary'].mean())"
   ]
  },
  {
   "cell_type": "markdown",
   "id": "1818b4ec-9980-4627-8610-e4e111d117ee",
   "metadata": {},
   "source": [
    "##  3. Common Aggregation Functions"
   ]
  },
  {
   "cell_type": "code",
   "execution_count": 3,
   "id": "f07bf437-2843-4940-8620-b0b5f788f628",
   "metadata": {},
   "outputs": [
    {
     "name": "stdout",
     "output_type": "stream",
     "text": [
      "Department\n",
      "Finance    175000\n",
      "HR         110000\n",
      "IT         150000\n",
      "Name: Salary, dtype: int64\n",
      "Department\n",
      "Finance    85000\n",
      "HR         50000\n",
      "IT         70000\n",
      "Name: Salary, dtype: int64\n",
      "Department\n",
      "Finance    90000\n",
      "HR         60000\n",
      "IT         80000\n",
      "Name: Salary, dtype: int64\n",
      "Department\n",
      "Finance    2\n",
      "HR         2\n",
      "IT         2\n",
      "Name: Salary, dtype: int64\n"
     ]
    }
   ],
   "source": [
    "print(grouped['Salary'].sum())\n",
    "print(grouped['Salary'].min())\n",
    "print(grouped['Salary'].max())\n",
    "print(grouped['Salary'].count())"
   ]
  },
  {
   "cell_type": "markdown",
   "id": "19bfdfb0-6fa0-4dc5-856f-5a261b0ff207",
   "metadata": {},
   "source": [
    "##  4. Using .agg() for Multiple Aggregations"
   ]
  },
  {
   "cell_type": "code",
   "execution_count": 4,
   "id": "bd438ddf-e811-4b66-af73-4dd97652a5dc",
   "metadata": {},
   "outputs": [
    {
     "name": "stdout",
     "output_type": "stream",
     "text": [
      "               mean     sum    min    max\n",
      "Department                               \n",
      "Finance     87500.0  175000  85000  90000\n",
      "HR          55000.0  110000  50000  60000\n",
      "IT          75000.0  150000  70000  80000\n"
     ]
    }
   ],
   "source": [
    "grouped = df.groupby('Department')['Salary'].agg(['mean', 'sum', 'min', 'max'])\n",
    "print(grouped)"
   ]
  },
  {
   "cell_type": "markdown",
   "id": "84eb481f-334a-40da-9076-80e1053cfdf1",
   "metadata": {},
   "source": [
    "## 5. Group by Multiple Columns"
   ]
  },
  {
   "cell_type": "code",
   "execution_count": 7,
   "id": "566a37f9-5375-4179-8bdc-c4136e4bd117",
   "metadata": {},
   "outputs": [],
   "source": [
    "data = {\n",
    "    'Department': ['IT', 'IT', 'HR', 'HR', 'Finance', 'Finance'],\n",
    "    'Gender': ['M', 'F', 'F', 'M', 'M', 'F'],\n",
    "    'Salary': [70000, 80000, 50000, 60000, 90000, 85000]\n",
    "}\n",
    "df = pd.DataFrame(data)"
   ]
  },
  {
   "cell_type": "code",
   "execution_count": 8,
   "id": "eac94b2b-b535-4c73-a4ff-a5a42a33b839",
   "metadata": {},
   "outputs": [
    {
     "name": "stdout",
     "output_type": "stream",
     "text": [
      "Department  Gender\n",
      "Finance     F         85000.0\n",
      "            M         90000.0\n",
      "HR          F         50000.0\n",
      "            M         60000.0\n",
      "IT          F         80000.0\n",
      "            M         70000.0\n",
      "Name: Salary, dtype: float64\n"
     ]
    }
   ],
   "source": [
    "print(df.groupby(['Department', 'Gender'])['Salary'].mean())"
   ]
  },
  {
   "cell_type": "markdown",
   "id": "ebb290f8-fa3c-431f-9e35-49def6a2e8b1",
   "metadata": {},
   "source": [
    "##  6. Using transform() and filter()"
   ]
  },
  {
   "cell_type": "code",
   "execution_count": 9,
   "id": "cf22280e-8e59-4d3a-b531-93d18f09fe08",
   "metadata": {},
   "outputs": [],
   "source": [
    "# Same Shape - Transform\n",
    "df['Salary_Mean_By_Department'] = df.groupby('Department')['Salary'].transform('mean')\n",
    "\n",
    "\n",
    "#  Keeps rows based on group condition - Filter\n",
    "filtered = df.groupby('Department').filter(lambda x: x['Salary'].mean() > 70000)\n"
   ]
  },
  {
   "cell_type": "markdown",
   "id": "6ad600a9-e80d-4b18-9d7f-6e489c380e58",
   "metadata": {},
   "source": [
    " ## 7. Sorting Grouped Values"
   ]
  },
  {
   "cell_type": "code",
   "execution_count": 10,
   "id": "2d49414e-8a54-479b-acf9-fac98309174a",
   "metadata": {},
   "outputs": [],
   "source": [
    "grouped = df.groupby('Department')['Salary'].mean().sort_values(ascending=False)"
   ]
  },
  {
   "cell_type": "markdown",
   "id": "acdad8c2-2a70-4ea2-9963-44bfba443474",
   "metadata": {},
   "source": [
    "## 8. Resetting Index"
   ]
  },
  {
   "cell_type": "code",
   "execution_count": 11,
   "id": "c0e4ed31-3cff-4cf6-b2b7-74bd30b61f19",
   "metadata": {},
   "outputs": [],
   "source": [
    "grouped = df.groupby('Department')['Salary'].mean().sort_values(ascending=False)"
   ]
  }
 ],
 "metadata": {
  "kernelspec": {
   "display_name": "Python 3 (ipykernel)",
   "language": "python",
   "name": "python3"
  },
  "language_info": {
   "codemirror_mode": {
    "name": "ipython",
    "version": 3
   },
   "file_extension": ".py",
   "mimetype": "text/x-python",
   "name": "python",
   "nbconvert_exporter": "python",
   "pygments_lexer": "ipython3",
   "version": "3.13.0"
  }
 },
 "nbformat": 4,
 "nbformat_minor": 5
}
