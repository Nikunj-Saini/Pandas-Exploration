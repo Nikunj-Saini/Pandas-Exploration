{
 "cells": [
  {
   "cell_type": "markdown",
   "id": "4b868297-2263-461a-a143-4b923f96a7f6",
   "metadata": {},
   "source": [
    "## 1. Load a CSV File"
   ]
  },
  {
   "cell_type": "code",
   "execution_count": 1,
   "id": "7b948fcb-dca5-465e-b126-b81541476b4f",
   "metadata": {},
   "outputs": [],
   "source": [
    "import pandas as pd "
   ]
  },
  {
   "cell_type": "code",
   "execution_count": 14,
   "id": "9c168b30-a194-453a-9189-6505250b9ac9",
   "metadata": {},
   "outputs": [
    {
     "name": "stdout",
     "output_type": "stream",
     "text": [
      "   PassengerId  Survived  Pclass  \\\n",
      "0            1         0       3   \n",
      "1            2         1       1   \n",
      "2            3         1       3   \n",
      "3            4         1       1   \n",
      "4            5         0       3   \n",
      "\n",
      "                                                Name     Sex   Age  SibSp  \\\n",
      "0                            Braund, Mr. Owen Harris    male  22.0      1   \n",
      "1  Cumings, Mrs. John Bradley (Florence Briggs Th...  female  38.0      1   \n",
      "2                             Heikkinen, Miss. Laina  female  26.0      0   \n",
      "3       Futrelle, Mrs. Jacques Heath (Lily May Peel)  female  35.0      1   \n",
      "4                           Allen, Mr. William Henry    male  35.0      0   \n",
      "\n",
      "   Parch            Ticket     Fare Cabin Embarked  \n",
      "0      0         A/5 21171   7.2500   NaN        S  \n",
      "1      0          PC 17599  71.2833   C85        C  \n",
      "2      0  STON/O2. 3101282   7.9250   NaN        S  \n",
      "3      0            113803  53.1000  C123        S  \n",
      "4      0            373450   8.0500   NaN        S  \n"
     ]
    }
   ],
   "source": [
    "titanic = r'C:\\Users\\DELL\\Desktop\\titanic.csv'\n",
    "df = pd.read_csv(titanic)\n",
    "\n",
    "print(df.head())"
   ]
  },
  {
   "cell_type": "markdown",
   "id": "1e11131d-2919-4adc-b099-438c8e0f456e",
   "metadata": {},
   "source": [
    "From URL"
   ]
  },
  {
   "cell_type": "code",
   "execution_count": null,
   "id": "bfb5943f-fb78-48ec-bd71-a2724de4861b",
   "metadata": {},
   "outputs": [],
   "source": [
    "url = 'https://raw.githubusercontent.com/mwaskom/seaborn-data/master/iris.csv'\n",
    "df = pd.read_csv(url)"
   ]
  },
  {
   "cell_type": "markdown",
   "id": "9d85eea3-d337-4c0c-974f-c6caf900b4d9",
   "metadata": {},
   "source": [
    "## 2. Load Excel File"
   ]
  },
  {
   "cell_type": "code",
   "execution_count": 12,
   "id": "5c1aff23-5e97-4d22-aa33-daf7d8f2f818",
   "metadata": {},
   "outputs": [],
   "source": [
    "df = pd.read_excel('titanic.xlsx')"
   ]
  },
  {
   "cell_type": "markdown",
   "id": "31918282-c6ea-45af-adfd-96da5893a924",
   "metadata": {},
   "source": [
    "If the file has multiple sheets:"
   ]
  },
  {
   "cell_type": "code",
   "execution_count": null,
   "id": "583b12d9-8b61-46e4-9776-cc330054dae2",
   "metadata": {},
   "outputs": [],
   "source": [
    "df = pd.read_excel('students.xlsx', sheet_name='Marks')"
   ]
  },
  {
   "cell_type": "markdown",
   "id": "69cda0a0-b5b4-4d67-943b-edcb16abc8c9",
   "metadata": {},
   "source": [
    "## 3. Load JSON File"
   ]
  },
  {
   "cell_type": "code",
   "execution_count": null,
   "id": "e055fc97-fd56-4ead-aa7c-3d8d42c95f75",
   "metadata": {},
   "outputs": [],
   "source": [
    "df = pd.read_json('titanic.json')"
   ]
  },
  {
   "cell_type": "markdown",
   "id": "52e79f19-6a2f-4061-9067-10633034211c",
   "metadata": {},
   "source": [
    "##  4. Save Data to CSV/Excel"
   ]
  },
  {
   "cell_type": "code",
   "execution_count": null,
   "id": "2ee05fb5-6284-4a70-b07c-e27f9f3db1ee",
   "metadata": {},
   "outputs": [],
   "source": [
    "df.to_csv('output.csv', index=False)         #index=False prevents saving index numbers in the file\n",
    "df.to_excel('output.xlsx', index=False)"
   ]
  },
  {
   "cell_type": "markdown",
   "id": "2a0fee3d-5534-4ee4-b7e9-b1caecd45438",
   "metadata": {},
   "source": [
    "##  5. Read CSV Without Header"
   ]
  },
  {
   "cell_type": "code",
   "execution_count": null,
   "id": "79a0a500-67e6-4f74-a6d5-bee4020947f5",
   "metadata": {},
   "outputs": [],
   "source": [
    "df = pd.read_csv('students.csv', header=None)"
   ]
  },
  {
   "cell_type": "markdown",
   "id": "46e2f641-7e7f-47a2-bfb5-ab9e42d3e223",
   "metadata": {},
   "source": [
    "We can also assign custom names as per the need"
   ]
  },
  {
   "cell_type": "code",
   "execution_count": null,
   "id": "edd787be-4b69-4482-929c-04bd40510b08",
   "metadata": {},
   "outputs": [],
   "source": [
    "df = pd.read_csv('students.csv', names=['Name', 'Age', 'Score'], header=0)"
   ]
  },
  {
   "cell_type": "markdown",
   "id": "d320a81f-cc12-4ce6-a3e1-a19cd6a155cc",
   "metadata": {},
   "source": [
    "## 6. Handle Encoding Errors"
   ]
  },
  {
   "cell_type": "code",
   "execution_count": null,
   "id": "5572ef47-b908-4a8f-9cde-b373fcb7beae",
   "metadata": {},
   "outputs": [],
   "source": [
    "df = pd.read_csv('file.csv', encoding='latin1') "
   ]
  }
 ],
 "metadata": {
  "kernelspec": {
   "display_name": "Python 3 (ipykernel)",
   "language": "python",
   "name": "python3"
  },
  "language_info": {
   "codemirror_mode": {
    "name": "ipython",
    "version": 3
   },
   "file_extension": ".py",
   "mimetype": "text/x-python",
   "name": "python",
   "nbconvert_exporter": "python",
   "pygments_lexer": "ipython3",
   "version": "3.13.0"
  }
 },
 "nbformat": 4,
 "nbformat_minor": 5
}
