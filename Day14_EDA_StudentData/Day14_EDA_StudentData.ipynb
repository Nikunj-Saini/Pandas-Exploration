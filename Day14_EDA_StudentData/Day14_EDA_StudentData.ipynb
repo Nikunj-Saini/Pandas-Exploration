{
 "cells": [
  {
   "cell_type": "code",
   "execution_count": 1,
   "id": "f7eb2f43-2d67-43c7-be57-5714c57821dd",
   "metadata": {},
   "outputs": [],
   "source": [
    "student_scores_messy = r'C:\\Users\\DELL\\Desktop\\student_scores_messy.csv'"
   ]
  },
  {
   "cell_type": "markdown",
   "id": "31cfa77e-c011-4623-aef2-0fe66eecc815",
   "metadata": {},
   "source": [
    "## Importing Liberaries"
   ]
  },
  {
   "cell_type": "code",
   "execution_count": 2,
   "id": "1a24cbe3-931c-4e29-b341-3ff246651564",
   "metadata": {},
   "outputs": [],
   "source": [
    "import pandas as pd \n",
    "import numpy as np "
   ]
  },
  {
   "cell_type": "markdown",
   "id": "7d51e5e8-c352-437e-b674-2ea15ed89172",
   "metadata": {},
   "source": [
    "##  1. Load and Inspect"
   ]
  },
  {
   "cell_type": "code",
   "execution_count": 10,
   "id": "33a3e8b8-8f10-4aa5-8d69-af4c2b1759f1",
   "metadata": {},
   "outputs": [
    {
     "name": "stdout",
     "output_type": "stream",
     "text": [
      "    Name   Age  Score Gender\n",
      "0  Nikunj   25   85.0      F\n",
      "1   Rohan   30   90.0      M\n",
      "2  shinjo  NaN   95.0      M\n",
      "3    Nami   30   90.0      m\n",
      "4   Kinau   25   85.0      f\n",
      "<class 'pandas.core.frame.DataFrame'>\n",
      "RangeIndex: 10 entries, 0 to 9\n",
      "Data columns (total 4 columns):\n",
      " #   Column  Non-Null Count  Dtype  \n",
      "---  ------  --------------  -----  \n",
      " 0    Name   10 non-null     object \n",
      " 1   Age     9 non-null      object \n",
      " 2   Score   8 non-null      float64\n",
      " 3   Gender  10 non-null     object \n",
      "dtypes: float64(1), object(3)\n",
      "memory usage: 452.0+ bytes\n",
      "None\n"
     ]
    }
   ],
   "source": [
    "df = pd.read_csv(student_scores_messy)\n",
    "print(df.head())\n",
    "print(df.info())"
   ]
  },
  {
   "cell_type": "markdown",
   "id": "b003281b-3275-42af-9909-9b5def4edcf9",
   "metadata": {},
   "source": [
    "##  2. Clean Columns"
   ]
  },
  {
   "cell_type": "code",
   "execution_count": 15,
   "id": "a7fc3416-ff41-449e-99cb-4e64788d14bf",
   "metadata": {},
   "outputs": [],
   "source": [
    "df.columns = df.columns.str.strip().str.lower()\n",
    "df['name'] = df['name'].str.strip().str.capitalize()\n",
    "df['gender'] = df['gender'].str.strip().str.upper()\n",
    "df['gender'] = df['gender'].replace({'F': 'Female', 'M': 'Male'})"
   ]
  },
  {
   "cell_type": "code",
   "execution_count": 17,
   "id": "23acfac3-e94a-4d99-b29a-b7f042e26339",
   "metadata": {},
   "outputs": [
    {
     "name": "stdout",
     "output_type": "stream",
     "text": [
      "     name  age  score  gender\n",
      "0  Nikunj   25   85.0  FEMALE\n",
      "1   Rohan   30   90.0    MALE\n",
      "2  Shinjo  NaN   95.0    MALE\n",
      "3    Nami   30   90.0    MALE\n",
      "4   Kinau   25   85.0  FEMALE\n"
     ]
    }
   ],
   "source": [
    "print(df.head())"
   ]
  },
  {
   "cell_type": "markdown",
   "id": "4a1a17a1-0afb-4e70-8a7f-b5786b98c89f",
   "metadata": {},
   "source": [
    "##  3. Convert & Handle Data Types"
   ]
  },
  {
   "cell_type": "code",
   "execution_count": 18,
   "id": "47f660d5-8ca1-495c-8bc9-8022214b1854",
   "metadata": {},
   "outputs": [],
   "source": [
    "df['age'] = pd.to_numeric(df['age'], errors='coerce')\n",
    "df['score'] = pd.to_numeric(df['score'], errors='coerce')"
   ]
  },
  {
   "cell_type": "code",
   "execution_count": 27,
   "id": "82b3edfb-a2bf-4b41-9986-66bfe481d6b7",
   "metadata": {},
   "outputs": [],
   "source": [
    "df.dropna(subset = ['age' , 'score'] ,inplace=True)"
   ]
  },
  {
   "cell_type": "code",
   "execution_count": 21,
   "id": "46786dbc-d9e5-41fa-98e5-901155d02ed8",
   "metadata": {},
   "outputs": [
    {
     "name": "stdout",
     "output_type": "stream",
     "text": [
      "     name   age  score  gender\n",
      "0  Nikunj  25.0   85.0  FEMALE\n",
      "1   Rohan  30.0   90.0    MALE\n",
      "3    Nami  30.0   90.0    MALE\n",
      "4   Kinau  25.0   85.0  FEMALE\n",
      "6    Nump  35.0   70.0  FEMALE\n"
     ]
    }
   ],
   "source": [
    "print(df.head())"
   ]
  },
  {
   "cell_type": "markdown",
   "id": "c5a06592-d7c6-4d0c-8f27-0acae57b41b7",
   "metadata": {},
   "source": [
    "##  4. Explore the Data"
   ]
  },
  {
   "cell_type": "markdown",
   "id": "f76b1ade-3d01-46a3-8ad2-b794dbd915cb",
   "metadata": {},
   "source": [
    "SUMMARY STATS"
   ]
  },
  {
   "cell_type": "code",
   "execution_count": null,
   "id": "406278d9-84ed-4ecb-923c-a5fb45f73b42",
   "metadata": {},
   "outputs": [],
   "source": [
    "print(df.describe())  "
   ]
  },
  {
   "cell_type": "markdown",
   "id": "f4e46c4a-4974-4973-a36f-9a655cd3c337",
   "metadata": {},
   "source": [
    "FREQUENCY COUNTER"
   ]
  },
  {
   "cell_type": "code",
   "execution_count": 29,
   "id": "a82014f4-2e97-4b29-b5fb-b505da2b75a0",
   "metadata": {},
   "outputs": [
    {
     "name": "stdout",
     "output_type": "stream",
     "text": [
      "gender\n",
      "FEMALE    4\n",
      "MALE      2\n",
      "Name: count, dtype: int64\n"
     ]
    }
   ],
   "source": [
    "print(df['gender'].value_counts()) "
   ]
  },
  {
   "cell_type": "markdown",
   "id": "8cd5ca32-9854-4721-bf9a-108439d26e53",
   "metadata": {},
   "source": [
    "UNIQUE VALUES "
   ]
  },
  {
   "cell_type": "code",
   "execution_count": 30,
   "id": "60689ec5-b302-4cae-99ed-a88fbcd8597b",
   "metadata": {},
   "outputs": [
    {
     "name": "stdout",
     "output_type": "stream",
     "text": [
      "[25. 30. 35. 40.]\n"
     ]
    }
   ],
   "source": [
    "print(df['age'].unique())   "
   ]
  },
  {
   "cell_type": "markdown",
   "id": "c1cbcf84-ac31-4931-b348-d845b82b7f83",
   "metadata": {},
   "source": [
    "CORRELATION MATRIX"
   ]
  },
  {
   "cell_type": "code",
   "execution_count": 31,
   "id": "634491ba-4cea-4ec7-ab99-c72c68f01d36",
   "metadata": {},
   "outputs": [
    {
     "name": "stdout",
     "output_type": "stream",
     "text": [
      "            age     score\n",
      "age    1.000000 -0.196964\n",
      "score -0.196964  1.000000\n"
     ]
    }
   ],
   "source": [
    "print(df.corr(numeric_only=True))  "
   ]
  }
 ],
 "metadata": {
  "kernelspec": {
   "display_name": "Python 3 (ipykernel)",
   "language": "python",
   "name": "python3"
  },
  "language_info": {
   "codemirror_mode": {
    "name": "ipython",
    "version": 3
   },
   "file_extension": ".py",
   "mimetype": "text/x-python",
   "name": "python",
   "nbconvert_exporter": "python",
   "pygments_lexer": "ipython3",
   "version": "3.13.0"
  }
 },
 "nbformat": 4,
 "nbformat_minor": 5
}
