{
 "cells": [
  {
   "cell_type": "markdown",
   "id": "825068aa-0a10-4620-abca-4c29e7ea70cd",
   "metadata": {},
   "source": [
    "# What is Pandas?"
   ]
  },
  {
   "cell_type": "markdown",
   "id": "deed4ae2-324a-4b88-a39a-67283d3fce95",
   "metadata": {},
   "source": [
    "#### Pandas = Python + Data Analysis\n",
    "\n",
    "#### It helps in :\n",
    "#### Load data (CSV, Excel, SQL, etc.)\n",
    "\n",
    "#### Clean and transform messy data\n",
    "\n",
    "#### Analysis like Excel — but better!"
   ]
  },
  {
   "cell_type": "markdown",
   "id": "6e2b0685-cf96-49d3-8e83-d463af0f14b4",
   "metadata": {},
   "source": [
    "## 1. Import Pandas"
   ]
  },
  {
   "cell_type": "code",
   "execution_count": 2,
   "id": "a361fb6c-96e0-4287-8b78-9a687357127d",
   "metadata": {},
   "outputs": [],
   "source": [
    "import pandas as pd"
   ]
  },
  {
   "cell_type": "markdown",
   "id": "de0a025f-7b12-44e4-b096-d4cd0e9f7163",
   "metadata": {},
   "source": [
    "##  2. Create a Series (1D)"
   ]
  },
  {
   "cell_type": "code",
   "execution_count": 3,
   "id": "5521e671-3331-40cb-95d7-5e98c0397a67",
   "metadata": {},
   "outputs": [
    {
     "name": "stdout",
     "output_type": "stream",
     "text": [
      "0    10\n",
      "1    20\n",
      "2    30\n",
      "3    40\n",
      "dtype: int64\n"
     ]
    }
   ],
   "source": [
    "s = pd.Series([10, 20, 30, 40])\n",
    "print(s)"
   ]
  },
  {
   "cell_type": "markdown",
   "id": "5f53f9a0-833d-4a05-a5d8-9b21398dd37e",
   "metadata": {},
   "source": [
    "## 3. Custom Index for Series"
   ]
  },
  {
   "cell_type": "code",
   "execution_count": 7,
   "id": "e73f63d1-f1fd-4d44-960d-75b6911f23ac",
   "metadata": {},
   "outputs": [
    {
     "name": "stdout",
     "output_type": "stream",
     "text": [
      "a    10\n",
      "b    20\n",
      "c    30\n",
      "dtype: int64\n",
      "10\n",
      "20\n"
     ]
    }
   ],
   "source": [
    "s = pd.Series([10,20,30], index = ['a','b','c'])\n",
    "\n",
    "print(s)\n",
    "print(s['a'])\n",
    "print(s['b'])"
   ]
  },
  {
   "cell_type": "markdown",
   "id": "3715b40f-0e13-46b1-8dbf-ab014724ba75",
   "metadata": {},
   "source": [
    "##  4. Create a DataFrame from a Dictionary"
   ]
  },
  {
   "cell_type": "code",
   "execution_count": 9,
   "id": "13cdb5fb-2623-4f68-8c71-bc1c25eafb8b",
   "metadata": {},
   "outputs": [
    {
     "name": "stdout",
     "output_type": "stream",
     "text": [
      "      Name  Age  Score\n",
      "0    Alice   25     85\n",
      "1      Bob   30     90\n",
      "2  Charlie   35     95\n"
     ]
    }
   ],
   "source": [
    "data = {\n",
    "    'Name': ['Alice', 'Bob', 'Charlie'],\n",
    "    'Age': [25, 30, 35],\n",
    "    'Score': [85, 90, 95]\n",
    "}\n",
    "\n",
    "df = pd.DataFrame(data)\n",
    "print(df)"
   ]
  },
  {
   "cell_type": "markdown",
   "id": "75162025-c391-4c4c-92bb-279f1d37ec58",
   "metadata": {},
   "source": [
    "##  5. Inspecting the Data"
   ]
  },
  {
   "cell_type": "markdown",
   "id": "068f1b4d-d5cc-4b00-a126-ce3f98182cd5",
   "metadata": {},
   "source": [
    "### 1. .head():First 5 rows (default)"
   ]
  },
  {
   "cell_type": "code",
   "execution_count": 10,
   "id": "81aabd19-0967-4f52-b052-662410441182",
   "metadata": {},
   "outputs": [
    {
     "data": {
      "text/html": [
       "<div>\n",
       "<style scoped>\n",
       "    .dataframe tbody tr th:only-of-type {\n",
       "        vertical-align: middle;\n",
       "    }\n",
       "\n",
       "    .dataframe tbody tr th {\n",
       "        vertical-align: top;\n",
       "    }\n",
       "\n",
       "    .dataframe thead th {\n",
       "        text-align: right;\n",
       "    }\n",
       "</style>\n",
       "<table border=\"1\" class=\"dataframe\">\n",
       "  <thead>\n",
       "    <tr style=\"text-align: right;\">\n",
       "      <th></th>\n",
       "      <th>Name</th>\n",
       "      <th>Age</th>\n",
       "      <th>Score</th>\n",
       "    </tr>\n",
       "  </thead>\n",
       "  <tbody>\n",
       "    <tr>\n",
       "      <th>0</th>\n",
       "      <td>Alice</td>\n",
       "      <td>25</td>\n",
       "      <td>85</td>\n",
       "    </tr>\n",
       "    <tr>\n",
       "      <th>1</th>\n",
       "      <td>Bob</td>\n",
       "      <td>30</td>\n",
       "      <td>90</td>\n",
       "    </tr>\n",
       "    <tr>\n",
       "      <th>2</th>\n",
       "      <td>Charlie</td>\n",
       "      <td>35</td>\n",
       "      <td>95</td>\n",
       "    </tr>\n",
       "  </tbody>\n",
       "</table>\n",
       "</div>"
      ],
      "text/plain": [
       "      Name  Age  Score\n",
       "0    Alice   25     85\n",
       "1      Bob   30     90\n",
       "2  Charlie   35     95"
      ]
     },
     "execution_count": 10,
     "metadata": {},
     "output_type": "execute_result"
    }
   ],
   "source": [
    "df.head(4)"
   ]
  },
  {
   "cell_type": "markdown",
   "id": "8b2d016b-7aed-4148-832c-f53c326b721e",
   "metadata": {},
   "source": [
    "### 2. df.tail(n): Last n rows"
   ]
  },
  {
   "cell_type": "code",
   "execution_count": 11,
   "id": "aa70dd73-cb5d-4510-8be7-3fbb46272b6e",
   "metadata": {},
   "outputs": [
    {
     "data": {
      "text/html": [
       "<div>\n",
       "<style scoped>\n",
       "    .dataframe tbody tr th:only-of-type {\n",
       "        vertical-align: middle;\n",
       "    }\n",
       "\n",
       "    .dataframe tbody tr th {\n",
       "        vertical-align: top;\n",
       "    }\n",
       "\n",
       "    .dataframe thead th {\n",
       "        text-align: right;\n",
       "    }\n",
       "</style>\n",
       "<table border=\"1\" class=\"dataframe\">\n",
       "  <thead>\n",
       "    <tr style=\"text-align: right;\">\n",
       "      <th></th>\n",
       "      <th>Name</th>\n",
       "      <th>Age</th>\n",
       "      <th>Score</th>\n",
       "    </tr>\n",
       "  </thead>\n",
       "  <tbody>\n",
       "    <tr>\n",
       "      <th>1</th>\n",
       "      <td>Bob</td>\n",
       "      <td>30</td>\n",
       "      <td>90</td>\n",
       "    </tr>\n",
       "    <tr>\n",
       "      <th>2</th>\n",
       "      <td>Charlie</td>\n",
       "      <td>35</td>\n",
       "      <td>95</td>\n",
       "    </tr>\n",
       "  </tbody>\n",
       "</table>\n",
       "</div>"
      ],
      "text/plain": [
       "      Name  Age  Score\n",
       "1      Bob   30     90\n",
       "2  Charlie   35     95"
      ]
     },
     "execution_count": 11,
     "metadata": {},
     "output_type": "execute_result"
    }
   ],
   "source": [
    "df.tail(2)"
   ]
  },
  {
   "cell_type": "markdown",
   "id": "02662253-926b-45fe-b904-6792efe8caeb",
   "metadata": {},
   "source": [
    "###  3. df.shape: Tuple of (rows, columns)"
   ]
  },
  {
   "cell_type": "code",
   "execution_count": 12,
   "id": "7dd4b646-4a13-4747-ac48-2585d6cd4484",
   "metadata": {},
   "outputs": [
    {
     "data": {
      "text/plain": [
       "(3, 3)"
      ]
     },
     "execution_count": 12,
     "metadata": {},
     "output_type": "execute_result"
    }
   ],
   "source": [
    "df.shape"
   ]
  },
  {
   "cell_type": "markdown",
   "id": "52d4f4a9-36f1-49dd-bb8c-df767ecabdb6",
   "metadata": {},
   "source": [
    "### 4. .info(): Structure + data types + memory usage"
   ]
  },
  {
   "cell_type": "code",
   "execution_count": 13,
   "id": "b88600a4-8019-4adf-a8c4-aeb4ae7c93ec",
   "metadata": {},
   "outputs": [
    {
     "name": "stdout",
     "output_type": "stream",
     "text": [
      "<class 'pandas.core.frame.DataFrame'>\n",
      "RangeIndex: 3 entries, 0 to 2\n",
      "Data columns (total 3 columns):\n",
      " #   Column  Non-Null Count  Dtype \n",
      "---  ------  --------------  ----- \n",
      " 0   Name    3 non-null      object\n",
      " 1   Age     3 non-null      int64 \n",
      " 2   Score   3 non-null      int64 \n",
      "dtypes: int64(2), object(1)\n",
      "memory usage: 204.0+ bytes\n"
     ]
    }
   ],
   "source": [
    "df.info()"
   ]
  },
  {
   "cell_type": "markdown",
   "id": "35623b21-eb04-4e62-ab29-f256aab13990",
   "metadata": {},
   "source": [
    "###  5. .describe(): Statistical summary of numeric columns"
   ]
  },
  {
   "cell_type": "code",
   "execution_count": 14,
   "id": "2cca6f2d-d709-4a58-bcc0-f83417d737d4",
   "metadata": {},
   "outputs": [
    {
     "data": {
      "text/html": [
       "<div>\n",
       "<style scoped>\n",
       "    .dataframe tbody tr th:only-of-type {\n",
       "        vertical-align: middle;\n",
       "    }\n",
       "\n",
       "    .dataframe tbody tr th {\n",
       "        vertical-align: top;\n",
       "    }\n",
       "\n",
       "    .dataframe thead th {\n",
       "        text-align: right;\n",
       "    }\n",
       "</style>\n",
       "<table border=\"1\" class=\"dataframe\">\n",
       "  <thead>\n",
       "    <tr style=\"text-align: right;\">\n",
       "      <th></th>\n",
       "      <th>Age</th>\n",
       "      <th>Score</th>\n",
       "    </tr>\n",
       "  </thead>\n",
       "  <tbody>\n",
       "    <tr>\n",
       "      <th>count</th>\n",
       "      <td>3.0</td>\n",
       "      <td>3.0</td>\n",
       "    </tr>\n",
       "    <tr>\n",
       "      <th>mean</th>\n",
       "      <td>30.0</td>\n",
       "      <td>90.0</td>\n",
       "    </tr>\n",
       "    <tr>\n",
       "      <th>std</th>\n",
       "      <td>5.0</td>\n",
       "      <td>5.0</td>\n",
       "    </tr>\n",
       "    <tr>\n",
       "      <th>min</th>\n",
       "      <td>25.0</td>\n",
       "      <td>85.0</td>\n",
       "    </tr>\n",
       "    <tr>\n",
       "      <th>25%</th>\n",
       "      <td>27.5</td>\n",
       "      <td>87.5</td>\n",
       "    </tr>\n",
       "    <tr>\n",
       "      <th>50%</th>\n",
       "      <td>30.0</td>\n",
       "      <td>90.0</td>\n",
       "    </tr>\n",
       "    <tr>\n",
       "      <th>75%</th>\n",
       "      <td>32.5</td>\n",
       "      <td>92.5</td>\n",
       "    </tr>\n",
       "    <tr>\n",
       "      <th>max</th>\n",
       "      <td>35.0</td>\n",
       "      <td>95.0</td>\n",
       "    </tr>\n",
       "  </tbody>\n",
       "</table>\n",
       "</div>"
      ],
      "text/plain": [
       "        Age  Score\n",
       "count   3.0    3.0\n",
       "mean   30.0   90.0\n",
       "std     5.0    5.0\n",
       "min    25.0   85.0\n",
       "25%    27.5   87.5\n",
       "50%    30.0   90.0\n",
       "75%    32.5   92.5\n",
       "max    35.0   95.0"
      ]
     },
     "execution_count": 14,
     "metadata": {},
     "output_type": "execute_result"
    }
   ],
   "source": [
    "df.describe()"
   ]
  },
  {
   "cell_type": "markdown",
   "id": "42211010-a056-40be-be75-f19a60fa9b38",
   "metadata": {},
   "source": [
    "### 6. .columns: List of column names"
   ]
  },
  {
   "cell_type": "code",
   "execution_count": 15,
   "id": "a4194caf-18d9-47d9-8d4c-eb2ff0a81696",
   "metadata": {},
   "outputs": [
    {
     "data": {
      "text/plain": [
       "Index(['Name', 'Age', 'Score'], dtype='object')"
      ]
     },
     "execution_count": 15,
     "metadata": {},
     "output_type": "execute_result"
    }
   ],
   "source": [
    "df.columns"
   ]
  },
  {
   "cell_type": "markdown",
   "id": "93ade3b3-4a72-4fc8-97fa-6db187885737",
   "metadata": {},
   "source": [
    "### 7. .index: Index info (rows)"
   ]
  },
  {
   "cell_type": "code",
   "execution_count": 16,
   "id": "6da2142d-3eee-4efd-af38-393d83837723",
   "metadata": {},
   "outputs": [
    {
     "data": {
      "text/plain": [
       "RangeIndex(start=0, stop=3, step=1)"
      ]
     },
     "execution_count": 16,
     "metadata": {},
     "output_type": "execute_result"
    }
   ],
   "source": [
    "df.index"
   ]
  },
  {
   "cell_type": "markdown",
   "id": "ac3cca47-b5c8-40d1-bf54-2587229daafa",
   "metadata": {},
   "source": [
    "## 6. Accessing Data"
   ]
  },
  {
   "cell_type": "markdown",
   "id": "1d47ed86-e65d-4bce-91a4-eca82a8c1f5f",
   "metadata": {},
   "source": [
    " Access column"
   ]
  },
  {
   "cell_type": "code",
   "execution_count": 17,
   "id": "35f31c31-b0c5-4a3e-a39c-273283e1764c",
   "metadata": {},
   "outputs": [
    {
     "name": "stdout",
     "output_type": "stream",
     "text": [
      "0      Alice\n",
      "1        Bob\n",
      "2    Charlie\n",
      "Name: Name, dtype: object\n"
     ]
    }
   ],
   "source": [
    "print(df['Name'])"
   ]
  },
  {
   "cell_type": "markdown",
   "id": "b17d8d14-1529-4bc5-86c3-3e2ea825f3b5",
   "metadata": {},
   "source": [
    " Access row by index"
   ]
  },
  {
   "cell_type": "code",
   "execution_count": 18,
   "id": "79fe4caa-cfa4-4073-8e91-3ac01e850c7a",
   "metadata": {},
   "outputs": [
    {
     "name": "stdout",
     "output_type": "stream",
     "text": [
      "Name     Bob\n",
      "Age       30\n",
      "Score     90\n",
      "Name: 1, dtype: object\n"
     ]
    }
   ],
   "source": [
    "print(df.iloc[1]) "
   ]
  },
  {
   "cell_type": "markdown",
   "id": "e332a237-11a4-4137-b0d9-c6562a144c26",
   "metadata": {},
   "source": [
    "Access row by label (if custom index is set)"
   ]
  },
  {
   "cell_type": "code",
   "execution_count": 19,
   "id": "adda4768-b15d-4276-a6b6-f2ead919af37",
   "metadata": {},
   "outputs": [
    {
     "name": "stdout",
     "output_type": "stream",
     "text": [
      "Age      25\n",
      "Score    85\n",
      "Name: Alice, dtype: int64\n"
     ]
    }
   ],
   "source": [
    "df = df.set_index('Name')\n",
    "print(df.loc['Alice'])"
   ]
  },
  {
   "cell_type": "code",
   "execution_count": null,
   "id": "caa3a0ad-1f88-416c-b072-402add6ea9ef",
   "metadata": {},
   "outputs": [],
   "source": []
  }
 ],
 "metadata": {
  "kernelspec": {
   "display_name": "Python 3 (ipykernel)",
   "language": "python",
   "name": "python3"
  },
  "language_info": {
   "codemirror_mode": {
    "name": "ipython",
    "version": 3
   },
   "file_extension": ".py",
   "mimetype": "text/x-python",
   "name": "python",
   "nbconvert_exporter": "python",
   "pygments_lexer": "ipython3",
   "version": "3.13.0"
  }
 },
 "nbformat": 4,
 "nbformat_minor": 5
}
