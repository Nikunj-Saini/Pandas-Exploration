{
 "cells": [
  {
   "cell_type": "markdown",
   "id": "1226f2d8-3c19-4f2d-8e28-89e41720de12",
   "metadata": {},
   "source": [
    "## Today I will  learn how to:\n",
    "1)Clean messy column names\n", 
    "\n",
    "2)Remove duplicates\n",
    "\n",
    "3)Drop or impute missing values\n",
    "\n",
    "4)Fix inconsistent values\n",
    "\n",
    "5)Change data types\n",
    "\n",
    "6)Rename, reset, and reindex"
   ]
  },
  {
   "cell_type": "markdown",
   "id": "965a5dfb-aa8e-42c8-8f3e-05bbe0c66c84",
   "metadata": {},
   "source": [
    "## Sample Data  for Practice "
   ]
  },
  {
   "cell_type": "code",
   "execution_count": 8,
   "id": "c2af4dfc-93bd-43a5-a2fc-f97b41ff2553",
   "metadata": {},
   "outputs": [],
   "source": [
    "import pandas as pd\n",
    "import numpy as np\n",
    "data = {\n",
    "    ' Name ': ['Shally', 'Nikunj   ', 'Kartik', 'Mood', 'Kiani'],\n",
    "    'Age': ['25', '30', np.nan, '30', '25'],\n",
    "    'Score': [85, 90, 95, 90, 85],\n",
    "    'Gender': ['F', 'M', 'M', 'm', 'f']\n",
    "}\n",
    "df = pd.DataFrame(data)\n"
   ]
  },
  {
   "cell_type": "markdown",
   "id": "81133440-25f0-4777-9a84-2dac909748e9",
   "metadata": {},
   "source": [
    "## 1. Clean Column Names"
   ]
  },
  {
   "cell_type": "code",
   "execution_count": 13,
   "id": "04393d56-ba3d-478a-b8bd-4ab4c03527e9",
   "metadata": {},
   "outputs": [
    {
     "name": "stdout",
     "output_type": "stream",
     "text": [
      "Index(['name', 'age', 'score', 'gender'], dtype='object')\n"
     ]
    }
   ],
   "source": [
    "df.columns  = df.columns.str.strip().str.lower()\n",
    "print(df.columns)"
   ]
  },
  {
   "cell_type": "markdown",
   "id": "e01964e5-7316-44ff-91d8-2916ed37f584",
   "metadata": {},
   "source": [
    "##  2. Strip Whitespace & Standardize Text"
   ]
  },
  {
   "cell_type": "code",
   "execution_count": 17,
   "id": "d1e0d8bc-f4e6-4264-83e8-13e1f360652a",
   "metadata": {},
   "outputs": [
    {
     "name": "stdout",
     "output_type": "stream",
     "text": [
      "0    Shally\n",
      "1    Nikunj\n",
      "2    Kartik\n",
      "3      Mood\n",
      "4     Kiani\n",
      "Name: name, dtype: object\n"
     ]
    }
   ],
   "source": [
    "df['name'] = df['name'].str.strip().str.capitalize()\n",
    "df['gender'] = df['gender'].str.upper()\n",
    "print(df['name'])"
   ]
  },
  {
   "cell_type": "markdown",
   "id": "c6061958-ed39-4b75-9a79-708d04376df3",
   "metadata": {},
   "source": [
    "##  3. Handle Data Types"
   ]
  },
  {
   "cell_type": "code",
   "execution_count": 18,
   "id": "11f0357b-ed09-45a6-b4f3-72dbfd9b3b6e",
   "metadata": {},
   "outputs": [
    {
     "name": "stdout",
     "output_type": "stream",
     "text": [
      "0    25.0\n",
      "1    30.0\n",
      "2     NaN\n",
      "3    30.0\n",
      "4    25.0\n",
      "Name: age, dtype: float64\n"
     ]
    }
   ],
   "source": [
    "df['age'] = pd.to_numeric(df['age'], errors='coerce')  \n",
    "print(df['age'])"
   ]
  },
  {
   "cell_type": "markdown",
   "id": "37984b0f-d9a8-4faa-a449-b24f66d37a33",
   "metadata": {},
   "source": [
    "##  4. Remove Duplicates"
   ]
  },
  {
   "cell_type": "code",
   "execution_count": 19,
   "id": "2faef54c-f3c7-4e2b-b0eb-6787a4ad368d",
   "metadata": {},
   "outputs": [
    {
     "name": "stdout",
     "output_type": "stream",
     "text": [
      "<bound method DataFrame.drop_duplicates of      name   age  score gender\n",
      "0  Shally  25.0     85      F\n",
      "1  Nikunj  30.0     90      M\n",
      "2  Kartik   NaN     95      M\n",
      "3    Mood  30.0     90      M\n",
      "4   Kiani  25.0     85      F>\n"
     ]
    }
   ],
   "source": [
    "df = df.drop_duplicates()\n",
    "print(df.drop_duplicates)"
   ]
  },
  {
   "cell_type": "markdown",
   "id": "ee43b6c6-7ced-43c6-9f25-ab620565eafa",
   "metadata": {},
   "source": [
    " ## 5. Check and Handle Missing Values"
   ]
  },
  {
   "cell_type": "code",
   "execution_count": 22,
   "id": "e39ebb6e-da84-4439-982e-9287ee398b2b",
   "metadata": {},
   "outputs": [
    {
     "name": "stdout",
     "output_type": "stream",
     "text": [
      "<bound method DataFrame.dropna of      name   age  score gender\n",
      "0  Shally  25.0     85      F\n",
      "1  Nikunj  30.0     90      M\n",
      "3    Mood  30.0     90      M\n",
      "4   Kiani  25.0     85      F>\n"
     ]
    }
   ],
   "source": [
    "df.isnull().sum()\n",
    "df = df.dropna()\n",
    "print(df.dropna)"
   ]
  },
  {
   "cell_type": "markdown",
   "id": "1b0dd368-a856-4547-8b1e-73f6d6fdbcc3",
   "metadata": {},
   "source": [
    "##  6. Rename Columns"
   ]
  },
  {
   "cell_type": "code",
   "execution_count": 24,
   "id": "73d1e709-63e6-4a93-9d62-8c0599024194",
   "metadata": {},
   "outputs": [
    {
     "name": "stdout",
     "output_type": "stream",
     "text": [
      "<bound method DataFrame.rename of      name   age  marks gender\n",
      "0  Shally  25.0     85      F\n",
      "1  Nikunj  30.0     90      M\n",
      "3    Mood  30.0     90      M\n",
      "4   Kiani  25.0     85      F>\n"
     ]
    }
   ],
   "source": [
    "df = df.rename(columns={'score' :'marks' })\n",
    "print(df.rename)"
   ]
  },
  {
   "cell_type": "markdown",
   "id": "b84b5c31-6be9-42fd-9f6a-c178bb4c482a",
   "metadata": {},
   "source": [
    "##  7. Reset Index After Cleaning"
   ]
  },
  {
   "cell_type": "code",
   "execution_count": 25,
   "id": "2f7e625e-ab80-4897-b8ac-0613073dba52",
   "metadata": {},
   "outputs": [
    {
     "name": "stdout",
     "output_type": "stream",
     "text": [
      "     name   age  marks gender\n",
      "0  Shally  25.0     85      F\n",
      "1  Nikunj  30.0     90      M\n",
      "2    Mood  30.0     90      M\n",
      "3   Kiani  25.0     85      F\n"
     ]
    }
   ],
   "source": [
    "df = df.reset_index(drop = True)\n",
    "print(df)"
   ]
  },
  {
   "cell_type": "markdown",
   "id": "e182b085-b037-493f-9162-3821c33da54e",
   "metadata": {},
   "source": [
    "## 8. Replace or Map Values"
   ]
  },
  {
   "cell_type": "code",
   "execution_count": 30,
   "id": "224e33df-2ecd-476d-bb17-f9bd82a0cdc4",
   "metadata": {},
   "outputs": [
    {
     "name": "stdout",
     "output_type": "stream",
     "text": [
      "     name   age  marks  gender\n",
      "0  Shally  25.0     85  Female\n",
      "1  Nikunj  30.0     90    Male\n",
      "2    Mood  30.0     90    Male\n",
      "3   Kiani  25.0     85  Female\n"
     ]
    }
   ],
   "source": [
    "df['gender'] = df['gender'].replace({'M': 'Male', 'F': 'Female'})\n",
    "print(df)"
   ]
  }
 ],
 "metadata": {
  "kernelspec": {
   "display_name": "Python 3 (ipykernel)",
   "language": "python",
   "name": "python3"
  },
  "language_info": {
   "codemirror_mode": {
    "name": "ipython",
    "version": 3
   },
   "file_extension": ".py",
   "mimetype": "text/x-python",
   "name": "python",
   "nbconvert_exporter": "python",
   "pygments_lexer": "ipython3",
   "version": "3.13.0"
  }
 },
 "nbformat": 4,
 "nbformat_minor": 5
}
